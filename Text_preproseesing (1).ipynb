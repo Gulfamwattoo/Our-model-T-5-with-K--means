{
  "nbformat": 4,
  "nbformat_minor": 0,
  "metadata": {
    "colab": {
      "provenance": []
    },
    "kernelspec": {
      "name": "python3",
      "display_name": "Python 3"
    },
    "language_info": {
      "name": "python"
    },
    "accelerator": "GPU",
    "gpuClass": "standard"
  },
  "cells": [
    {
      "cell_type": "code",
      "source": [
        "import json\n",
        "import os\n",
        "from typing import List\n",
        "import ast\n",
        "import nltk\n",
        "import torch\n",
        "import pandas as pd\n",
        "from tqdm import tqdm\n",
        "from transformers import T5Tokenizer, T5ForConditionalGeneration\n",
        "import bert_score\n",
        "import functools\n",
        "import networkx as nx\n",
        "from pyrouge import Rouge155\n",
        "import time\n",
        "import shutil\n",
        "import numpy as np\n",
        "import nltk\n",
        "from simcse import SimCSE\n",
        "import argparse\n",
        "from scipy import spatial\n",
        "from sentence_transformers import SentenceTransformer\n",
        "\n",
        "from IPython.utils import io\n",
        "nltk.download('punkt')"
      ],
      "metadata": {
        "colab": {
          "base_uri": "https://localhost:8080/"
        },
        "id": "nEzLhfjyiSz6",
        "outputId": "7aa613d3-d8a2-4cf7-fe40-46dc90ea57c7"
      },
      "execution_count": null,
      "outputs": [
        {
          "output_type": "stream",
          "name": "stderr",
          "text": [
            "/usr/local/lib/python3.7/dist-packages/huggingface_hub/snapshot_download.py:11: FutureWarning: snapshot_download.py has been made private and will no longer be available from version 0.11. Please use `from huggingface_hub import snapshot_download` to import the only public function in this module. Other members of the file may be changed without a deprecation notice.\n",
            "  FutureWarning,\n",
            "[nltk_data] Downloading package punkt to /root/nltk_data...\n",
            "[nltk_data]   Unzipping tokenizers/punkt.zip.\n"
          ]
        },
        {
          "output_type": "execute_result",
          "data": {
            "text/plain": [
              "True"
            ]
          },
          "metadata": {},
          "execution_count": 7
        }
      ]
    },
    {
      "cell_type": "code",
      "source": [
        "from google.colab import drive\n",
        "drive.mount(\"/content/drive\")"
      ],
      "metadata": {
        "colab": {
          "base_uri": "https://localhost:8080/"
        },
        "id": "tmD4uwfwcxvt",
        "outputId": "74918f41-c5a2-4fbc-ead9-a7bc70b7dd40"
      },
      "execution_count": null,
      "outputs": [
        {
          "output_type": "stream",
          "name": "stdout",
          "text": [
            "Mounted at /content/drive\n"
          ]
        }
      ]
    },
    {
      "cell_type": "code",
      "source": [
        "import pandas as pd\n",
        "df = pd.read_csv(\"DUC2004.csv\",encoding=\"latin-1\")"
      ],
      "metadata": {
        "id": "Dg7Kq_puc2jq"
      },
      "execution_count": null,
      "outputs": []
    },
    {
      "cell_type": "code",
      "source": [
        "from sumy.parsers.plaintext import PlaintextParser\n",
        "from sumy.nlp.tokenizers import Tokenizer\n",
        "from sumy.summarizers.lsa import LsaSummarizer\n",
        "summarizer_lsa = LsaSummarizer()"
      ],
      "metadata": {
        "id": "2sjtYDPhc2er"
      },
      "execution_count": null,
      "outputs": []
    },
    {
      "cell_type": "code",
      "source": [
        "import nltk\n",
        "nltk.download('punkt')"
      ],
      "metadata": {
        "colab": {
          "base_uri": "https://localhost:8080/"
        },
        "id": "6OUnnjaWc2cB",
        "outputId": "1716e9fb-c975-41f3-eeb0-51322799b70f"
      },
      "execution_count": null,
      "outputs": [
        {
          "output_type": "stream",
          "name": "stderr",
          "text": [
            "[nltk_data] Downloading package punkt to /root/nltk_data...\n",
            "[nltk_data]   Package punkt is already up-to-date!\n"
          ]
        },
        {
          "output_type": "execute_result",
          "data": {
            "text/plain": [
              "True"
            ]
          },
          "metadata": {},
          "execution_count": 11
        }
      ]
    },
    {
      "cell_type": "code",
      "source": [
        "def generate_summary(heu):\n",
        "  # for heu in dataset['heuristic1']:\n",
        "    # print(\"Original Text:\", heu)\n",
        "    # print(\"Original Summary:\", abs)\n",
        "    parser = PlaintextParser.from_string(heu, Tokenizer('english'))\n",
        "    summary= summarizer_lsa(parser.document, 6)\n",
        "    lex_summary=\"\"\n",
        "\n",
        "    for sentence in summary:\n",
        "        lex_summary+=str(sentence)\n",
        "    return lex_summary\n",
        "    # print(\"Predicted Summary:\", lex_summary)\n",
        "    # print(\"\\n\")\n",
        "\n",
        "# dataset['LSA_summary']=dataset['new_heuristic'].apply(lambda x:generate_summary(x))"
      ],
      "metadata": {
        "id": "JhInwJH2c2ZR"
      },
      "execution_count": null,
      "outputs": []
    },
    {
      "cell_type": "code",
      "source": [
        "ref_sum = \"4\"\n",
        "ground_summary_list = []\n",
        "gen_summary_list=[]\n",
        "for index, row in df.iterrows():\n",
        "    print(index)\n",
        "    doc_list=[]\n",
        "    for file in os.listdir(row[\"documents\"]):\n",
        "        with open(row[\"documents\"]+file) as f:\n",
        "            doc_list = doc_list+(f.readlines())\n",
        "    full_doc= (' '.join(doc_list)).replace('\\n','')\n",
        "    gen_summary_list.append(generate_summary(full_doc))\n",
        "\n",
        "    with open(row[\"summary\"]+ref_sum+\".txt\") as f1:\n",
        "        gsum=(' '.join(f1.readlines())).replace('\\n','')\n",
        "        ground_summary_list.append(gsum)"
      ],
      "metadata": {
        "colab": {
          "base_uri": "https://localhost:8080/"
        },
        "id": "UphTEn7MX0tY",
        "outputId": "2c2821d1-9d37-40fa-d660-6693ad02e745"
      },
      "execution_count": null,
      "outputs": [
        {
          "output_type": "stream",
          "name": "stdout",
          "text": [
            "0\n",
            "1\n",
            "2\n",
            "3\n",
            "4\n",
            "5\n",
            "6\n",
            "7\n",
            "8\n",
            "9\n",
            "10\n",
            "11\n",
            "12\n",
            "13\n",
            "14\n",
            "15\n",
            "16\n",
            "17\n",
            "18\n",
            "19\n",
            "20\n",
            "21\n",
            "22\n",
            "23\n",
            "24\n",
            "25\n",
            "26\n",
            "27\n",
            "28\n",
            "29\n",
            "30\n",
            "31\n",
            "32\n",
            "33\n",
            "34\n",
            "35\n",
            "36\n",
            "37\n",
            "38\n",
            "39\n",
            "40\n",
            "41\n",
            "42\n",
            "43\n",
            "44\n",
            "45\n",
            "46\n",
            "47\n",
            "48\n",
            "49\n"
          ]
        }
      ]
    },
    {
      "cell_type": "code",
      "source": [
        "print(\"Predicted Summary:\",gen_summary_list[1])\n",
        "print(\"ground_Truth_summary:\",ground_summary_list[1])"
      ],
      "metadata": {
        "colab": {
          "base_uri": "https://localhost:8080/"
        },
        "id": "aOG1FFXsX0qG",
        "outputId": "24b0c0ca-0658-4bde-a2ad-9186c01e9c02"
      },
      "execution_count": null,
      "outputs": [
        {
          "output_type": "stream",
          "name": "stdout",
          "text": [
            "Predicted Summary: Hunter dismissed the league's latest proposal on Friday afternoon,  then said both sides would be best served by awaiting Feerick's ruling.With wide philosophical differences on how $2 billion  annual income should be distributed, both sides have privately said  they don't expect to play a regular season game before December.Fordham Law School dean John Feerick will rule whether or not more  than 200 players with $800 million in guaranteed contracts should  be paid during the lockout.A league  official said the games would be canceled in blocks of one or two  weeks, depending upon circumstances regarding negotiations.The union argued  that owners should have protected themselves by inserting clauses  about non-payment for lockouts and strikes into individual player  contracts.If Feerick finds in favor of the players, there  will be no economic incentive for those with guaranteed contracts  to reach an agreement quickly.\n",
            "ground_Truth_summary: In a dispute between the owners and NBA players over how to divide the $2 billion in league-wide income, all preseason and the first 99 1998-1999 regular season games were cancelled. The Larry Bird exception, a clause in the old agreement that allowed teams to pay their own free agents any amount, regardless of salary-cap rules, is the major issue. The owners want a restricted salary cap. The players have proposed a superstar tax, and the owners have presented a counter proposal, but negotiations have stalled. Meanwhile, both sides are awaiting a ruling by arbitrator Feerick on whether $800 million in guaranteed salaries will be paid during the lockout.\n"
          ]
        }
      ]
    },
    {
      "cell_type": "code",
      "source": [
        "def test_rouge(predicted_summaries, gold_summaries):\n",
        "    \"\"\"Calculate ROUGE scores of sequences passed as an iterator\n",
        "       e.g. a list of str, an open file, StringIO or even sys.stdin\n",
        "    \"\"\"\n",
        "    current_time = time.strftime('%Y-%m-%d-%H-%M-%S', time.localtime())\n",
        "    tmp_dir = \".rouge-tmp-{}\".format(current_time)\n",
        "    try:\n",
        "        if not os.path.isdir(tmp_dir):\n",
        "            os.mkdir(tmp_dir)\n",
        "            os.mkdir(tmp_dir + \"/candidate\")\n",
        "            os.mkdir(tmp_dir + \"/reference\")\n",
        "        print('preparing predicted summaries')\n",
        "        candidates = [line.strip() for line in tqdm(predicted_summaries,total=len(predicted_summaries))]\n",
        "        print('preparing gold summaries')\n",
        "        gold = [line.strip() for line in tqdm(gold_summaries,total=len(gold_summaries))]\n",
        "        assert len(candidates) == len(gold)\n",
        "        cnt = len(candidates)\n",
        "        print('Writing temp files')\n",
        "        for i in tqdm(range(cnt)):\n",
        "            if len(gold[i]) < 1:\n",
        "                continue\n",
        "            with open(tmp_dir + \"/candidate/cand.{}.txt\".format(i), \"w\",\n",
        "                      encoding=\"utf-8\") as f:\n",
        "                f.write(candidates[i])\n",
        "            with open(tmp_dir + \"/reference/ref.{}.txt\".format(i), \"w\",\n",
        "                      encoding=\"utf-8\") as f:\n",
        "                f.write(gold[i])\n",
        "        print(\"Doing ROUGE calculation\")\n",
        "        with io.capture_output() as captured:\n",
        "            r = Rouge155()\n",
        "            r.model_dir = tmp_dir + \"/reference/\"\n",
        "            r.system_dir = tmp_dir + \"/candidate/\"\n",
        "            r.model_filename_pattern = 'ref.#ID#.txt'\n",
        "            r.system_filename_pattern = r'cand.(\\d+).txt'\n",
        "            rouge_results = r.convert_and_evaluate()\n",
        "            results_dict = r.output_to_dict(rouge_results)\n",
        "        return results_dict\n",
        "    finally:\n",
        "        pass\n",
        "        if os.path.isdir(tmp_dir):\n",
        "            shutil.rmtree(tmp_dir)\n",
        ""
      ],
      "metadata": {
        "id": "QTqwxYOjjVy7"
      },
      "execution_count": null,
      "outputs": []
    },
    {
      "cell_type": "code",
      "source": [
        "def format_rouge_results(results):\n",
        "    # return f\"ROUGE-F(1/2/l)/ROUGE-R(1/2/l)/ROUGE-P(1/2/l): {results['rouge_1_f_score']}/{results['rouge_2_f_score']}/{results['rouge_l_f_score']} /{results['rouge_1_recall']}/{results['rouge_2_recall']}/{results['rouge_l_recall']} /{results['rouge_1_precision']}/{results['rouge_2_precision']}/{results['rouge_l_precision']}\"\n",
        "    # return f\"ROUGE-F(1/2/l)/ROUGE-R(1/2/l): {results['rouge_1_f_score']}/{results['rouge_2_f_score']}/{results['rouge_l_f_score']} /{results['rouge_1_recall']}/{results['rouge_2_recall']}/{results['rouge_l_recall']}\"\n",
        "    return f\"ROUGE-F(1/2/l/3/4/s*/su*)/ROUGE-R(1/2/l)/ROUGE-P(1/2/l): {results['rouge_1_f_score']}/{results['rouge_2_f_score']}/{results['rouge_l_f_score']}/{results['rouge_3_f_score']}/{results['rouge_4_f_score']}/{results['rouge_s*_f_score']}/{results['rouge_su*_f_score']} /{results['rouge_1_recall']}/{results['rouge_2_recall']}/{results['rouge_l_recall']} /{results['rouge_1_precision']}/{results['rouge_2_precision']}/{results['rouge_l_precision']}\""
      ],
      "metadata": {
        "id": "qRYDVWnejVvk"
      },
      "execution_count": null,
      "outputs": []
    },
    {
      "cell_type": "code",
      "source": [
        "our_pred = test_rouge(gen_summary_list,ground_summary_list)"
      ],
      "metadata": {
        "colab": {
          "base_uri": "https://localhost:8080/"
        },
        "id": "UUWZbACmjVsz",
        "outputId": "3fb2bff3-7e75-40e0-b407-2ae8bf32a000"
      },
      "execution_count": null,
      "outputs": [
        {
          "output_type": "stream",
          "name": "stdout",
          "text": [
            "preparing predicted summaries\n"
          ]
        },
        {
          "output_type": "stream",
          "name": "stderr",
          "text": [
            "100%|██████████| 50/50 [00:00<00:00, 381300.36it/s]\n"
          ]
        },
        {
          "output_type": "stream",
          "name": "stdout",
          "text": [
            "preparing gold summaries\n"
          ]
        },
        {
          "output_type": "stream",
          "name": "stderr",
          "text": [
            "100%|██████████| 50/50 [00:00<00:00, 381300.36it/s]\n"
          ]
        },
        {
          "output_type": "stream",
          "name": "stdout",
          "text": [
            "Writing temp files\n"
          ]
        },
        {
          "output_type": "stream",
          "name": "stderr",
          "text": [
            "100%|██████████| 50/50 [00:00<00:00, 3810.09it/s]\n",
            "INFO:global:Writing summaries.\n",
            "INFO:global:Processing summaries. Saving system files to /tmp/tmpe02ysdeu/system and model files to /tmp/tmpe02ysdeu/model.\n",
            "INFO:global:Processing files in .rouge-tmp-2022-09-27-19-17-30/candidate/.\n",
            "INFO:global:Processing cand.29.txt.\n",
            "INFO:global:Processing cand.44.txt.\n",
            "INFO:global:Processing cand.20.txt.\n",
            "INFO:global:Processing cand.48.txt.\n",
            "INFO:global:Processing cand.9.txt.\n",
            "INFO:global:Processing cand.15.txt.\n",
            "INFO:global:Processing cand.47.txt.\n",
            "INFO:global:Processing cand.8.txt.\n",
            "INFO:global:Processing cand.49.txt.\n",
            "INFO:global:Processing cand.35.txt.\n",
            "INFO:global:Processing cand.0.txt.\n",
            "INFO:global:Processing cand.6.txt.\n",
            "INFO:global:Processing cand.18.txt.\n",
            "INFO:global:Processing cand.42.txt.\n",
            "INFO:global:Processing cand.33.txt.\n",
            "INFO:global:Processing cand.34.txt.\n",
            "INFO:global:Processing cand.13.txt.\n",
            "INFO:global:Processing cand.26.txt.\n",
            "INFO:global:Processing cand.43.txt.\n",
            "INFO:global:Processing cand.32.txt.\n",
            "INFO:global:Processing cand.4.txt.\n",
            "INFO:global:Processing cand.37.txt.\n",
            "INFO:global:Processing cand.21.txt.\n",
            "INFO:global:Processing cand.23.txt.\n",
            "INFO:global:Processing cand.11.txt.\n",
            "INFO:global:Processing cand.1.txt.\n",
            "INFO:global:Processing cand.24.txt.\n",
            "INFO:global:Processing cand.40.txt.\n",
            "INFO:global:Processing cand.46.txt.\n",
            "INFO:global:Processing cand.19.txt.\n",
            "INFO:global:Processing cand.25.txt.\n",
            "INFO:global:Processing cand.16.txt.\n",
            "INFO:global:Processing cand.31.txt.\n",
            "INFO:global:Processing cand.12.txt.\n",
            "INFO:global:Processing cand.30.txt.\n",
            "INFO:global:Processing cand.36.txt.\n",
            "INFO:global:Processing cand.38.txt.\n",
            "INFO:global:Processing cand.3.txt.\n",
            "INFO:global:Processing cand.14.txt.\n",
            "INFO:global:Processing cand.39.txt.\n",
            "INFO:global:Processing cand.45.txt.\n",
            "INFO:global:Processing cand.17.txt.\n",
            "INFO:global:Processing cand.7.txt.\n",
            "INFO:global:Processing cand.2.txt.\n",
            "INFO:global:Processing cand.41.txt.\n",
            "INFO:global:Processing cand.27.txt.\n",
            "INFO:global:Processing cand.10.txt.\n",
            "INFO:global:Processing cand.28.txt.\n",
            "INFO:global:Processing cand.5.txt.\n",
            "INFO:global:Processing cand.22.txt.\n",
            "INFO:global:Saved processed files to /tmp/tmpe02ysdeu/system.\n",
            "INFO:global:Processing files in .rouge-tmp-2022-09-27-19-17-30/reference/.\n",
            "INFO:global:Processing ref.22.txt.\n",
            "INFO:global:Processing ref.7.txt.\n",
            "INFO:global:Processing ref.16.txt.\n",
            "INFO:global:Processing ref.17.txt.\n",
            "INFO:global:Processing ref.12.txt.\n",
            "INFO:global:Processing ref.18.txt.\n",
            "INFO:global:Processing ref.43.txt.\n",
            "INFO:global:Processing ref.11.txt.\n",
            "INFO:global:Processing ref.35.txt.\n",
            "INFO:global:Processing ref.31.txt.\n",
            "INFO:global:Processing ref.45.txt.\n",
            "INFO:global:Processing ref.3.txt.\n",
            "INFO:global:Processing ref.20.txt.\n",
            "INFO:global:Processing ref.1.txt.\n",
            "INFO:global:Processing ref.37.txt.\n",
            "INFO:global:Processing ref.41.txt.\n",
            "INFO:global:Processing ref.40.txt.\n",
            "INFO:global:Processing ref.26.txt.\n",
            "INFO:global:Processing ref.23.txt.\n",
            "INFO:global:Processing ref.30.txt.\n",
            "INFO:global:Processing ref.0.txt.\n",
            "INFO:global:Processing ref.21.txt.\n",
            "INFO:global:Processing ref.27.txt.\n",
            "INFO:global:Processing ref.38.txt.\n",
            "INFO:global:Processing ref.10.txt.\n",
            "INFO:global:Processing ref.9.txt.\n"
          ]
        },
        {
          "output_type": "stream",
          "name": "stdout",
          "text": [
            "Doing ROUGE calculation\n"
          ]
        },
        {
          "output_type": "stream",
          "name": "stderr",
          "text": [
            "INFO:global:Processing ref.33.txt.\n",
            "INFO:global:Processing ref.5.txt.\n",
            "INFO:global:Processing ref.28.txt.\n",
            "INFO:global:Processing ref.14.txt.\n",
            "INFO:global:Processing ref.44.txt.\n",
            "INFO:global:Processing ref.36.txt.\n",
            "INFO:global:Processing ref.8.txt.\n",
            "INFO:global:Processing ref.15.txt.\n",
            "INFO:global:Processing ref.47.txt.\n",
            "INFO:global:Processing ref.46.txt.\n",
            "INFO:global:Processing ref.2.txt.\n",
            "INFO:global:Processing ref.32.txt.\n",
            "INFO:global:Processing ref.13.txt.\n",
            "INFO:global:Processing ref.4.txt.\n",
            "INFO:global:Processing ref.25.txt.\n",
            "INFO:global:Processing ref.24.txt.\n",
            "INFO:global:Processing ref.6.txt.\n",
            "INFO:global:Processing ref.34.txt.\n",
            "INFO:global:Processing ref.48.txt.\n",
            "INFO:global:Processing ref.29.txt.\n",
            "INFO:global:Processing ref.19.txt.\n",
            "INFO:global:Processing ref.39.txt.\n",
            "INFO:global:Processing ref.49.txt.\n",
            "INFO:global:Processing ref.42.txt.\n",
            "INFO:global:Saved processed files to /tmp/tmpe02ysdeu/model.\n",
            "INFO:global:Written ROUGE configuration to /tmp/tmpl7f6f8_c/rouge_conf.xml\n",
            "INFO:global:Running ROUGE with command /content/GenCompareSum/src/rouge/tools/ROUGE-1.5.5/ROUGE-1.5.5.pl -e /content/GenCompareSum/src/rouge/tools/ROUGE-1.5.5/data -c 95 -2 -1 -U -r 1000 -n 4 -w 1.2 -a -m /tmp/tmpl7f6f8_c/rouge_conf.xml\n"
          ]
        }
      ]
    },
    {
      "cell_type": "code",
      "source": [
        "format_rouge_results(our_pred)"
      ],
      "metadata": {
        "colab": {
          "base_uri": "https://localhost:8080/",
          "height": 36
        },
        "id": "Tm3y-EZ0jVqK",
        "outputId": "d1b7c102-f9dc-4657-9a7a-97540d2e0afa"
      },
      "execution_count": null,
      "outputs": [
        {
          "output_type": "execute_result",
          "data": {
            "text/plain": [
              "'ROUGE-F(1/2/l/3/4/s*/su*)/ROUGE-R(1/2/l)/ROUGE-P(1/2/l): 0.28457/0.03598/0.13429/0.00834/0.00247/0.07006/0.07312 /0.35442/0.04487/0.16732 /0.23885/0.03018/0.11269'"
            ],
            "application/vnd.google.colaboratory.intrinsic+json": {
              "type": "string"
            }
          },
          "metadata": {},
          "execution_count": 38
        }
      ]
    },
    {
      "cell_type": "code",
      "source": [],
      "metadata": {
        "id": "a9oEahGjjVnn"
      },
      "execution_count": null,
      "outputs": []
    },
    {
      "cell_type": "code",
      "source": [],
      "metadata": {
        "id": "CuQjCMaSjVk4"
      },
      "execution_count": null,
      "outputs": []
    },
    {
      "cell_type": "code",
      "source": [],
      "metadata": {
        "id": "5qMGpPnSjViL"
      },
      "execution_count": null,
      "outputs": []
    },
    {
      "cell_type": "code",
      "source": [],
      "metadata": {
        "id": "-JH9YUXHjVfm"
      },
      "execution_count": null,
      "outputs": []
    },
    {
      "cell_type": "code",
      "source": [],
      "metadata": {
        "id": "wzpn6UlijVcu"
      },
      "execution_count": null,
      "outputs": []
    },
    {
      "cell_type": "code",
      "source": [],
      "metadata": {
        "id": "m3qDNvUjtWap"
      },
      "execution_count": null,
      "outputs": []
    },
    {
      "cell_type": "code",
      "source": [],
      "metadata": {
        "id": "m2VAR2YJtWKI"
      },
      "execution_count": null,
      "outputs": []
    },
    {
      "cell_type": "code",
      "source": [],
      "metadata": {
        "id": "ALNl8vvVtWGz"
      },
      "execution_count": null,
      "outputs": []
    },
    {
      "cell_type": "code",
      "source": [],
      "metadata": {
        "id": "OO6ZvdzNtWDq"
      },
      "execution_count": null,
      "outputs": []
    },
    {
      "cell_type": "code",
      "source": [],
      "metadata": {
        "id": "vN6ZNs7ctWBM"
      },
      "execution_count": null,
      "outputs": []
    },
    {
      "cell_type": "code",
      "source": [],
      "metadata": {
        "id": "Myj6cjrktV-C"
      },
      "execution_count": null,
      "outputs": []
    },
    {
      "cell_type": "code",
      "source": [],
      "metadata": {
        "id": "1oMv8xybtV7I"
      },
      "execution_count": null,
      "outputs": []
    },
    {
      "cell_type": "code",
      "source": [
        "!pip3 install rouge"
      ],
      "metadata": {
        "colab": {
          "base_uri": "https://localhost:8080/"
        },
        "id": "5_d7LBXLdI2u",
        "outputId": "64e19e7b-27fb-4586-bb1d-7e9ceeb4f69a"
      },
      "execution_count": null,
      "outputs": [
        {
          "output_type": "stream",
          "name": "stdout",
          "text": [
            "Looking in indexes: https://pypi.org/simple, https://us-python.pkg.dev/colab-wheels/public/simple/\n",
            "Collecting rouge\n",
            "  Downloading rouge-1.0.1-py3-none-any.whl (13 kB)\n",
            "Requirement already satisfied: six in /usr/local/lib/python3.7/dist-packages (from rouge) (1.15.0)\n",
            "Installing collected packages: rouge\n",
            "Successfully installed rouge-1.0.1\n"
          ]
        }
      ]
    },
    {
      "cell_type": "code",
      "source": [
        "from rouge import Rouge\n",
        "rouge = Rouge()\n",
        "rouge.get_scores(dataset['LSA_summary'], dataset['abstract'], avg=True)\n",
        "# print(Scores)"
      ],
      "metadata": {
        "colab": {
          "base_uri": "https://localhost:8080/"
        },
        "id": "mMGy2LimdIzL",
        "outputId": "d783dc31-9da7-4b32-fa60-1ff7e17ac653"
      },
      "execution_count": null,
      "outputs": [
        {
          "output_type": "execute_result",
          "data": {
            "text/plain": [
              "{'rouge-1': {'f': 0.2613875234101277,\n",
              "  'p': 0.24665419150162882,\n",
              "  'r': 0.2986341173219435},\n",
              " 'rouge-2': {'f': 0.07573977365221242,\n",
              "  'p': 0.07376437399565818,\n",
              "  'r': 0.085254329291578},\n",
              " 'rouge-l': {'f': 0.23463420396423293,\n",
              "  'p': 0.22167455940541128,\n",
              "  'r': 0.2676419790260621}}"
            ]
          },
          "metadata": {},
          "execution_count": 10
        }
      ]
    },
    {
      "cell_type": "code",
      "source": [
        "import numpy as np\n",
        "import matplotlib.pyplot as plt\n",
        "\n",
        "# set width of bar\n",
        "barWidth = 0.25\n",
        "fig = plt.subplots(figsize =(8, 6))\n",
        "\n",
        "# set height of bar\n",
        "F1 = [26.13, 7.57, 23.46]\n",
        "Precision = [24.66, 7.37, 22.16]\n",
        "Recall = [29.86, 8.52, 26.76]\n",
        "# Set position of bar on X axis\n",
        "br1 = np.arange(len(F1))\n",
        "br2 = [x + barWidth for x in br1]\n",
        "br3 = [x + barWidth for x in br2]\n",
        "\n",
        "# Make the plot\n",
        "plt.bar(br1, F1, color ='#2F416D', width = barWidth,\n",
        "        edgecolor ='grey', label ='F1')\n",
        "plt.bar(br2, Precision, color ='#14868C', width = barWidth,\n",
        "        edgecolor ='grey', label ='Precision')\n",
        "plt.bar(br3, Recall, color ='#94CECA', width = barWidth,\n",
        "        edgecolor ='grey', label ='Recall')\n",
        "\n",
        "\n",
        "# Adding Xticks\n",
        "plt.title('LSA Summerizer', fontweight ='bold', fontsize = 15)\n",
        "plt.xlabel('ROUGE', fontweight ='bold', fontsize = 15)\n",
        "plt.ylabel('Scores', fontweight ='bold', fontsize = 15)\n",
        "plt.xticks([r + barWidth for r in range(len(F1))],\n",
        "        ['Rouge-1', 'Rouge-2', 'Rouge-L'])\n",
        "\n",
        "def addlabels(x, y):\n",
        "    for i in range(len(x)):\n",
        "        plt.text(i, y[i]+.25, y[i], ha='center')\n",
        "\n",
        "\n",
        "def addlabels1(x, y):\n",
        "    for i in range(len(x)):\n",
        "        plt.text(i+0.25, y[i]+.25, y[i], ha='center')\n",
        "\n",
        "def addlabels2(x, y):\n",
        "    for i in range(len(x)):\n",
        "        plt.text(i + .50, y[i]+.25, y[i], ha='center')\n",
        "\n",
        "\n",
        "addlabels(br1, F1)\n",
        "addlabels1(br2, Precision)\n",
        "addlabels2(br3, Recall)\n",
        "\n",
        "plt.legend()\n",
        "plt.show()"
      ],
      "metadata": {
        "colab": {
          "base_uri": "https://localhost:8080/",
          "height": 411
        },
        "id": "CHkhqmQ758YV",
        "outputId": "771e7e9d-d43f-4b02-bf3a-32ef5840fbe9"
      },
      "execution_count": null,
      "outputs": [
        {
          "output_type": "display_data",
          "data": {
            "text/plain": [
              "<Figure size 576x432 with 1 Axes>"
            ],
            "image/png": "[encoded data removed]"
          },
          "metadata": {
            "needs_background": "light"
          }
        }
      ]
    },
    {
      "cell_type": "code",
      "source": [],
      "metadata": {
        "id": "niN0MH-758Rn"
      },
      "execution_count": null,
      "outputs": []
    },
    {
      "cell_type": "code",
      "source": [
        "for i in range(0,10):\n",
        "    print(\"Original text:\",dataset['heuristic1'][i])\n",
        "    print(\"Original summary:\",dataset['abstract'][i])\n",
        "    print(\"Predicted summary:\",dataset['LSA_summary'][i])\n",
        "    print(\"\\n\")"
      ],
      "metadata": {
        "colab": {
          "base_uri": "https://localhost:8080/"
        },
        "id": "yG7K7Hofd4ri",
        "outputId": "c324346a-7ce1-4d09-9258-d5f03204833c"
      },
      "execution_count": null,
      "outputs": [
        {
          "output_type": "stream",
          "name": "stdout",
          "text": [
            "Original text: There is growing evidence that any strategy to effectively fight COVID-19 requires an efficient tracing of all contacts of infected individuals. Recent studies conclude that manual tracing is not fast enough and recommend the use of digital contact tracing systems able to use large-scale location information [1] . A key element of the success of a digital contacttracing system is its adoption. Singapore was one of the first countries implementing a digital contact-tracing system in early 2020. They opted to implement a mobile app that uses bluetooth (BT) technology to identify when two users have been in close proximity. If one of those users is tested positive in COVID-19, the other one is identified as a potential contagion. 20% of the population in Singapore installed the mobile app. But this was not enough. Indeed, a responsible from the Ministry of Health of Singapore stated that they would need three quarters of the citizens installing the app to make the digital contact-tracing strategy successful [2] . Although it is not clear what is the adoption rate from which a BT contact-tracing app becomes efficient in controlling a pandemic, some preliminary studies suggest that to mitigate the pandemic an adoption by 60% of the population in a country would be required [1] [3] . Some simulations studies show that if the adoption is below 20% the benefit of a BT contact-tracing app is very small, but we can observe a significant impact with 40+% adoption rate [3] . Note that, by adoption rate we refer to the rate of people actively using the app, rather than the number of installations. BT-based contact-tracing apps have a major problem. They are newly released and thus they need to achieve the required high adoption rate in a short period of time from scratch. To the best of our knowledge, neither researchers nor public or private institutions have proposed a convincing strategy to achieve the required adoption rate. For the time being, it seems that the success of any BT contact-tracing app depends solely on the self-responsibility of people, and it has not been enough. Despite of the described problem and the reported failure of Singapore's app, most western countries (especially in Europe) have also opted for mobile apps using BT technology as their contact-tracing systems. In particular, most of these countries opted for using the Decentralized Privacy-Preserving Proximity Tracing (DP-3T) protocol [4] . The main design goal of DP-3T is to provide full-privacy guarantees. In particular, it aims at guaranteeing that the contact-tracing applications using this protocol cannot be misused in the future for privacy-intrusive practices such as advertising, or even, massive surveillance.\n",
            "Original summary: The currently deployed contact-tracing mobile apps have failed as an efficient solution in the context of the COVID-19 pandemic. None of them has managed to attract the number of active users required to achieve an efficient operation. This urges the research community to re-open the debate and explore new avenues that lead to efficient contact-tracing solutions. This paper contributes to this debate with an alternative contact-tracing solution that leverages already available geolocation information owned by BigTech companies with very large penetration rates in most countries adopting contact-tracing mobile apps. Moreover, our solution provides sufficient privacy guarantees to protect the identity of infected users as well as precluding Health Authorities from obtaining the contact graph from individuals.\n",
            "Predicted summary: Recent studies conclude that manual tracing is not fast enough and recommend the use of digital contact tracing systems able to use large-scale location information [1] .Singapore was one of the first countries implementing a digital contact-tracing system in early 2020.Although it is not clear what is the adoption rate from which a BT contact-tracing app becomes efficient in controlling a pandemic, some preliminary studies suggest that to mitigate the pandemic an adoption by 60% of the population in a country would be required [1] [3] .Some simulations studies show that if the adoption is below 20% the benefit of a BT contact-tracing app is very small, but we can observe a significant impact with 40+% adoption rate [3] .Despite of the described problem and the reported failure of Singapore's app, most western countries (especially in Europe) have also opted for mobile apps using BT technology as their contact-tracing systems.In particular, most of these countries opted for using the Decentralized Privacy-Preserving Proximity Tracing (DP-3T) protocol [4] .In particular, it aims at guaranteeing that the contact-tracing applications using this protocol cannot be misused in the future for privacy-intrusive practices such as advertising, or even, massive surveillance.\n",
            "\n",
            "\n",
            "Original text: Energy consumption is the root of development for any country (Belke, Dobnik, & Dreger, 2011; Zhang et al. 2017 ). However, it also accounts for a significant amount of greenhouse gas emissions (GHG). Carbon dioxide discharge has increased globally in few years Seetanah et al. 2019) . Emerging markets' fossil fuel combustion obtrusively contribute to these emissions. For instance, according to Climate Watch Data (Historical GHG Emission 2016) statistics, China ranks first in the list of the top 10 emitters from 2006 to 2016 with more that 24% of worldwide greenhouse gas emissions alone in 2016. Taking into account other emerging markets, such as Brazil, India, Indonesia, Iran, and Russia, which are also included in the list of top 10 emitters for a decade, they collectively emitted more than 45% of the GHG in 2016. This has serious implications for human beings and the economy (Acheampong 2019; Alshehry and Belloumi 2017; Mezghani and Haddad 2017) . According to Apergis and GarzÃÂ³n (2020) , policymakers are committed to design policies and take national initiatives which help in reducing the adverse impacts of GHG emissions on global environment. Although historical and ongoing pollution is a significant health hazard in developed countries, the encumbrance of this issue is greater in emerging nations. In these nations, rapidly growing population and industrialization in conjunction with urbanization has led to industrialized mega cities with poor environmental quality (Bertazzi 2013; Mannucci and Franchini 2017) . Additionally, in rural areas of such countries, people are unprotected from dense indoor pollution because they use coal, wood, and other cheaper agricultural energy resources due to poor financial situations (Smith et al. 2014; Smith and Mehta 2003) . This has left emerging markets in a quest for cleaner and more secure energy resources (Lidula et al. 2007; TolÃÂ³n-Becerra et al. 2011 ). Developing renewable energy and modernizing older energy infrastructures significantly back accomplishment of developing world's climate change commitments. This makes the growth of renewable and cleaner energy sources increasingly relevant for these economies. Indeed, political leadership of emerging markets made considerable strides to accomplish renewable energy development targets. Transitioning to renewable sources of energy involves significant financial investments in new energy infrastructures. However, the relationship between financial development (FD) and renewable energy consumption (REC) is complex and remains unclear. Some studies argue that renewable energy consumption enhances financial and economic development (Kemmler and Spreng 2007; Vasylieva et al. 2019) , whereas other extant literature found that FD spurs REC Ji and Zhang 2019; Qamruzzaman and Jianguo 2020) . Since developed countries work on zerocarbon emission plan (for example see Shahbaz et al.\n",
            "Original summary: In the past three decades, the significance of large industrialized emerging economies has been highlighted. In terms of economic productivity and CO2 emissions, these markets play an important role in the global environment. Hence, to achieve global environmental needs, transition to renewable energy sources is essential. However, financial constraints along with geopolitical risks could act as possible barriers to the required transition. Thereby, in this paper, we aim to assess the impact of financial development and geopolitical risk on renewable energy consumption in emerging markets from 1996 to 2015. A two-step system GMM is tested, revealing a positive significant effect of financial development on transition to renewable energy. Moreover, contrary to the expected negative effect of geopolitical risk, our results reveal significant positive effect of geopolitical risk on renewable energy consumption. We highlight that the effects of both financial development and geopolitical risk are more pronounced in the long run. Finally, imperative policy implications are highlighted.\n",
            "Predicted summary: Energy consumption is the root of development for any country (Belke, Dobnik, & Dreger, 2011; Zhang et al. 2017 ).For instance, according to Climate Watch Data (Historical GHG Emission 2016) statistics, China ranks first in the list of the top 10 emitters from 2006 to 2016 with more that 24% of worldwide greenhouse gas emissions alone in 2016.Taking into account other emerging markets, such as Brazil, India, Indonesia, Iran, and Russia, which are also included in the list of top 10 emitters for a decade, they collectively emitted more than 45% of the GHG in 2016.Additionally, in rural areas of such countries, people are unprotected from dense indoor pollution because they use coal, wood, and other cheaper agricultural energy resources due to poor financial situations (Smith et al. 2014; Smith and Mehta 2003) .This makes the growth of renewable and cleaner energy sources increasingly relevant for these economies.Indeed, political leadership of emerging markets made considerable strides to accomplish renewable energy development targets.Since developed countries work on zerocarbon emission plan (for example see Shahbaz et al.\n",
            "\n",
            "\n",
            "Original text: COVID-19 was first detected in Wuhan City in December 2019. Since then it has caused more than seven hundred thousand deaths and twenty million infections [1] . With such massive scale fatalities, it has become one of the greatest crises of this generation. Apart from the loss of human lives, the pandemic has caused serious damage to the world economy. Because of lockdowns and similar distancing strategies it has also adversely affected psychological and social sections [2] . In the absence of any proven medicine or vaccine at present, an intervention strategy may be more useful to control the spread [3] . An effective modeling method to forecast the spread of the virus among the population can be extremely useful to prepare and formulate health and economic policies for any government or administrators. From planning emergency hospitals, managing ventilators, and medical resources to regulating lockdowns and scheduling economic activities, effective forecasts are strategically very important for policymakers [4] . When new cases rise at a rate of thousands per day then even the most developed nation's healthcare system has been overwhelmed to handle a large number of patients. A timely forecast can prepare the responsible authority accordingly to manage efficiently even during overwhelming scenarios. With the rise of cases and the availability of more data, various studies [5] [6] [7] have presented mathematical models for the spread. However, most of the models have a limited scope of forecasts for a particular country or region only. Previous researches [8, 9] have also used LSTM models to forecast but they use old data E-mail address: 073bme648@pcampus.edu.np. of the same country which is pretty limited. As it may not have seen and learned from the various patterns like sharp spikes and flattening effects, the learning process may be incomplete and imprecise. These dynamic patterns are more prevalent in early infected countries like Italy which have now passed the sharp spiking and gradual flattening for new cases. The use of Transfer Learning may help the network to model all these highly nonlinear temporal patterns which the test country may have never seen in its history. For countries like France, Italy the earlier occurrence and spread provides a large dataset for training which is not available for countries that saw the spread later like India and Nepal, which imposed strict lockdown early but is easing the regulations now. This discrepancy in pandemic over various regions has provided mature data for earlier infected countries. Cluster analysis [10] study has shown similarities existing in the dynamics of the spread of the disease between various countries like Italy, France, and Germany which has similar intervention modalities.\n",
            "Original summary: In this paper, Transfer Learning is used in LSTM networks to forecast new COVID cases and deaths. Models trained in data from early COVID infected countries like Italy and the United States are used to forecast the spread in other countries. Single and multistep forecasting is performed from these models. The results from these models are tested with data from Germany, France, Brazil, India, and Nepal to check the validity of the method. The obtained forecasts are promising and can be helpful for policymakers coping with the threats of COVID-19.\n",
            "Predicted summary: Since then it has caused more than seven hundred thousand deaths and twenty million infections [1] .When new cases rise at a rate of thousands per day then even the most developed nation's healthcare system has been overwhelmed to handle a large number of patients.A timely forecast can prepare the responsible authority accordingly to manage efficiently even during overwhelming scenarios.Previous researches [8, 9] have also used LSTM models to forecast but they use old data E-mail address: 073bme648@pcampus.edu.np.These dynamic patterns are more prevalent in early infected countries like Italy which have now passed the sharp spiking and gradual flattening for new cases.For countries like France, Italy the earlier occurrence and spread provides a large dataset for training which is not available for countries that saw the spread later like India and Nepal, which imposed strict lockdown early but is easing the regulations now.This discrepancy in pandemic over various regions has provided mature data for earlier infected countries.\n",
            "\n",
            "\n",
            "Original text: The goal of objective image quality assessment (IQA) is the construction of computational models that predict the perceived quality of visual images. IQA models are generally classified according to their reliance on the availability of an original reference image. Full-reference methods compare a distorted image to the complete reference image, reducedreference methods require only partial information about the reference image, and no-reference (or blind) methods operate solely on the distorted image. The standard paradigm for Communicated by Daniel Scharstein. testing IQA models is to compare them to human quality ratings of distorted images, which have been made available in datasets such as LIVE ) and TID2013 (Ponomarenko et al. 2015) . However, excessive reuse of these test sets during IQA model development may lead to overfitting, and as a consequence, poor generalization to images corrupted by distortions that are not present in the test sets (see Table 4 ). A highly promising but relatively under-studied application of IQA measures is to use them as objectives for the design and optimization of new image processing algorithms. The parameters of image processing methods are usually adjusted to minimize the mean squared error (MSE), the simplest of all fidelity metrics, despite the fact that it has been widely criticised for its poor correlation with human perception of image quality (Girod 1993) . Early attempts at perceptual optimization using the structural similarity (SSIM) index (Wang et al. 2004 ) in place of MSE achieved perceptual gains in applications of image restoration (Channappayya et al. 2008) , wireless video streaming (Vukadinovic and Karlsson 2009) , video coding , and image synthesis (Snell et al. 2017) . A recent publication used perceptual measures based on pre-trained deep neural networks (DNNs) for optimization of super-resolution results (Johnson et al. 2016) , although these have not been tested against human judgments. In this paper, we systematically evaluate a large set of full-reference IQA models in the context of perceptual optimization. To determine their suitability for optimization, we first test the models on recovering a reference image from a given initialization by optimizing the model-reported distance to the reference. For many IQA methods, we find that the optimization does not converge to the reference image, and can generate severe distortions. These optima are either local, or global but non-unique. We select eleven optimization-suitable IQA models as perceptual objectives, and use them to optimize DNNs for four low-level vision tasks-image denoising, blind image deblurring, single image super-resolution, and lossy image compression. Extensive human perceptual tests on the optimized images reveal the relative performance of the competing models. Moreover, inspection of their visual failures indicates limitations in model design, providing guidance for the development of future IQA models.\n",
            "Original summary: The performance of objective image quality assessment (IQA) models has been evaluated primarily by comparing model predictions to human quality judgments. Perceptual datasets gathered for this purpose have provided useful benchmarks for improving IQA methods, but their heavy use creates a risk of overfitting. Here, we perform a large-scale comparison of IQA models in terms of their use as objectives for the optimization of image processing algorithms. Specifically, we use eleven full-reference IQA models to train deep neural networks for four low-level vision tasks: denoising, deblurring, super-resolution, and compression. Subjective testing on the optimized images allows us to rank the competing models in terms of their perceptual performance, elucidate their relative advantages and disadvantages in these tasks, and propose a set of desirable properties for incorporation into future IQA models.\n",
            "Predicted summary: IQA models are generally classified according to their reliance on the availability of an original reference image.testing IQA models is to compare them to human quality ratings of distorted images, which have been made available in datasets such as LIVE ) and TID2013 (Ponomarenko et al. 2015) .However, excessive reuse of these test sets during IQA model development may lead to overfitting, and as a consequence, poor generalization to images corrupted by distortions that are not present in the test sets (see Table 4 ).A highly promising but relatively under-studied application of IQA measures is to use them as objectives for the design and optimization of new image processing algorithms.Early attempts at perceptual optimization using the structural similarity (SSIM) index (Wang et al. 2004 ) in place of MSE achieved perceptual gains in applications of image restoration (Channappayya et al. 2008) , wireless video streaming (Vukadinovic and Karlsson 2009) , video coding , and image synthesis (Snell et al. 2017) .A recent publication used perceptual measures based on pre-trained deep neural networks (DNNs) for optimization of super-resolution results (Johnson et al. 2016) , although these have not been tested against human judgments.These optima are either local, or global but non-unique.\n",
            "\n",
            "\n",
            "Original text: According to the latest evaluation of WHO (2018) , 90% of the world's population currently lives in areas where PM 2.5 levels exceed WHO limits (an average of 10ug/m 3 per year). In developed countries and regions such as North America, Europe, the hazerelated problems are well controlled, but haze still poses a serious threat in undeveloped regions such as in East Asia, South Asia and Africa (Rafaj et al. 2018) . In China, with the global warming and increasing calm weather days in recent decades, the frequent occurrence of haze has attracted wide attention of the government and all sectors of the society. The effective prevention and control of air pollution and the guarantee of air quality are closely related to the image of the state and government, as well as the health of the people (Matus et al. 2012 ). When faced with major political conferences or events, governments at all levels take various measures to control air pollution. For example, during the 2008 Beijing Olympic Games, the Ministry of Environmental Protection laid down Measures for Air Quality Guarantee in Beijing for the 29th Olympic Games, and the General Office of Hebei Provincial Government formulated the Emergency Measures for Air Pollution Control under Extremely Adverse Meteorological Conditions during the Olympic Games in the Hebei Province. These efforts were meant to ensure that the atmospheric environment quality during the Olympic Games met acceptable standards to ensure the normal progress of the competition. In addition, Beijing and its surrounding provinces implemented a series of temporary control measures for air pollution, including strengthening motor vehicle management, suspending part of a construction site operation, enhanced road cleaning, shutting down and limiting production of key pollution enterprises (Song et al. 2019 (Song et al. , 2020 . Other measure taken included the reduction in the discharge of organic exhaust and implementing emergency measures for pollution control under extreme adverse weather conditions. These measures achieved remarkable results. For example, from July 20 to September 20 in 2008, the total emission of air pollutants in Beijing dropped by 34.98%, the best level in 14 years after 1995 (Chen et al. 2013 ). The momentary \"political blue sky\" also appeared during the APEC meetings, the 70th anniversary parade of anti-fascist victory, the Nanjing Youth Olympic Games and the Hangzhou G20 Summit. While it seems a common practice to conduct temporary air quality control during major events (Shi et al. 2016; Wu et al. 2018 Wu et al. , 2019a , little is known about the real impact of these major events on the quality of air in these cities and the surrounding towns.\n",
            "Original summary: In an attempt to investigate the impact of major events on urban air quality in terms of the extent, duration and spatial scope, data on the daily air quality index and the concentrations of individual pollutants are collected in 140 cities of China from January 2, 2015, to November 28, 2017. Based on a spatial differences-in-differences, the impact of major events, such as political conferences, sporting events at the national level, on urban air quality in the dimensions of time and space are explored. It is concluded that major events not only affected the air quality of the host city, but also exercised influence on the air quality of the surrounding areas. Recommendations for mitigating the impact of major events on urban air quality have been proposed, such as establish regional atmospheric environment management system and formulate regional unified standards for pollutant discharge, industrial access and law enforcement.\n",
            "Predicted summary: According to the latest evaluation of WHO (2018) , 90% of the world's population currently lives in areas where PM 2.5 levels exceed WHO limits (an average of 10ug/m 3 per year).In developed countries and regions such as North America, Europe, the hazerelated problems are well controlled, but haze still poses a serious threat in undeveloped regions such as in East Asia, South Asia and Africa (Rafaj et al. 2018) .When faced with major political conferences or events, governments at all levels take various measures to control air pollution.In addition, Beijing and its surrounding provinces implemented a series of temporary control measures for air pollution, including strengthening motor vehicle management, suspending part of a construction site operation, enhanced road cleaning, shutting down and limiting production of key pollution enterprises (Song et al. 2019 (Song et al. , 2020 .Other measure taken included the reduction in the discharge of organic exhaust and implementing emergency measures for pollution control under extreme adverse weather conditions.For example, from July 20 to September 20 in 2008, the total emission of air pollutants in Beijing dropped by 34.98%, the best level in 14 years after 1995 (Chen et al. 2013 ).While it seems a common practice to conduct temporary air quality control during major events (Shi et al. 2016; Wu et al. 2018 Wu et al. , 2019a , little is known about the real impact of these major events on the quality of air in these cities and the surrounding towns.\n",
            "\n",
            "\n",
            "Original text: Since summer 2020, a considerable increase in coronavirus disease (COVID- 19) infections has been reported across Europe [1] , including in Norway [2] . A better understanding of children's role in transmission of severe acute respiratory syndrome coronavirus 2 (SARS-CoV-2) in school settings is urgently needed. Although several studies have reported limited transmission of SARS-CoV-2 among children in school settings [3] [4] [5] [6] [7] , few have comprised systematic testing of contacts, including asymptomatic contacts. We aimed to examine transmission of SARS-CoV-2 from confirmed paediatric COVID-19 cases in primary schools in Norway by systematically testing all contacts within the school twice during their quarantine period. Oslo and Viken were the counties in Norway with the highest 14-day incidence of COVID-19, ranging from 19.3 to 94.9 cases per 100,000 inhabitants in weeks 36 to 46 2020 [2] . During our observation period, from 28 August 2020 to 11 November 2020, the number of confirmed cases increased in these counties, including among children 5-13 years old ( Figure 1 ). An index case was defined as a case aged 5-13 years in Oslo or Viken county with PCR-confirmed SARS-CoV-2 infection, who had attended school within 48 hours before symptom onset or date of sampling. We prospectively included contact tracings around 13 index cases. For each index case, public health officials identified exposed child and adult school contacts ( Figure  2 ). All consenting cases and contacts delivered two self-collected saliva samples; the first was collected as soon as possible after they were identified, and the second was collected at the end of their 10-day quarantine period ( Figure 2 ). We excluded contact tracings with adult COVID-19 index cases. A primary case was defined as a school contact who tested positive for SARS-CoV-2 in the first saliva sample. A secondary case was defined as a school contact who tested positive for SARS-CoV-2 in the second saliva sample, following a first negative test. Study invitations were sent to adult contacts (staff) and parents of child contacts through the school's digital communication platform. We distributed equipment and detailed instructions for self-collection of two saliva samples to consenting participants on the same day. The first saliva sample was taken the following morning before eating, drinking or brushing teeth; the second saliva sample was taken at the end of the quarantine period with the same instructions ( Figure  2 ). The participants added viral transport media to the saliva sample. Each saliva sample was analysed for SARS-CoV-2 using PCR (RdRp gene) [8] at the National Reference Laboratory of influenza and coronaviruses with outbreak potential (including SARS-CoV-2) at the Department of Virology at the Norwegian Institute of Public Health in Oslo.\n",
            "Original summary: An intense debate on school closures to control the COVID-19 pandemic is ongoing in Europe. We prospectively examined transmission of SARS-CoV-2 from confirmed paediatric cases in Norwegian primary schools between August and November 2020. All in-school contacts were systematically tested twice during their quarantine period. With preventive measures implemented in schools, we found minimal child-to-child (0.9%, 2/234) and child-to-adult (1.7%, 1/58) transmission, supporting that under 14 year olds are not the drivers of SARS-CoV-2 transmission.\n",
            "Predicted summary: Although several studies have reported limited transmission of SARS-CoV-2 among children in school settings [3] [4] [5] [6] [7] , few have comprised systematic testing of contacts, including asymptomatic contacts.We aimed to examine transmission of SARS-CoV-2 from confirmed paediatric COVID-19 cases in primary schools in Norway by systematically testing all contacts within the school twice during their quarantine period.During our observation period, from 28 August 2020 to 11 November 2020, the number of confirmed cases increased in these counties, including among children 5-13 years old ( Figure 1 ).An index case was defined as a case aged 5-13 years in Oslo or Viken county with PCR-confirmed SARS-CoV-2 infection, who had attended school within 48 hours before symptom onset or date of sampling.For each index case, public health officials identified exposed child and adult school contacts ( Figure  2 ).We distributed equipment and detailed instructions for self-collection of two saliva samples to consenting participants on the same day.Each saliva sample was analysed for SARS-CoV-2 using PCR (RdRp gene) [8] at the National Reference Laboratory of influenza and coronaviruses with outbreak potential (including SARS-CoV-2) at the Department of Virology at the Norwegian Institute of Public Health in Oslo.\n",
            "\n",
            "\n",
            "Original text: COVID-19 was initially reported in Wuhan, China, in December 2019 and rapidly spread to all other provinces in China and throughout the world [1, 2] . Without specific treatment or prevention options for COVID-19, such as targeted antiviral drugs and vaccines, China has focused on isolation, quarantine, social distancing, and community containment to contain the outbreak [3] . By May 18, 2020, there were 84,494 confirmed cases of COVID-19 and 4,645 deaths in China and 4,534,327 confirmed cases and 307,202 deaths outside of China [4] . The pandemic of COVID-19 has raised wide public concern and imposed a heavy burden on global health care systems because approximately 15-20% of patients develop severe interstitial pneumonia [5] . In addition, COVID-19 patients admitted to ICUs experienced Ivyspring International Publisher higher mortality (38%) than non-ICU patients (4%) [6] . A mortality rate of 50-60% was reported in patients developing ARDS and requiring invasive mechanical ventilation therapy in the ICU [7] . Patients with COVID-19 were divided into mild, moderate, severe, and critical cases [8] . Because of the high mortality rate in severe or critical patients [6, 7] , early identification of patients' risk of developing into severe or critical cases is important so that patients with a poor prognosis can receive timely intervention and minimize the progression of the disease [9] . Therefore, prognostic tools and biomarkers are urgently needed [10, 11] . However, most studies have focused mainly on identifying the factors related to death and recovery [12] [13] [14] . Although some prognostic information has been revealed by using univariate-or multivariate analyses based on prior clinical knowledge or evidence [9, [15] [16] [17] [18] [19] [20] [21] , these studies have not paid enough attention to feature selection in multivariate prognostic prediction modeling. As a result, the published prognostic prediction tools may not make the most of patient data to perform prognostic prediction modeling. This study built a multivariate prognostic prediction model to predict the risk of developing severe cases among patients with moderate COVID-19. With the patients' characteristics at admission and outcomes, a feature selection procedure based on machine learning algorithms was conducted to identify the features contributing the most to distinguishing between the two groups. These features were then chosen as the risk factors on which to build the prognostic prediction model.\n",
            "Original summary: Objective: To evaluate the characteristics at admission of patients with moderate COVID-19 in Wuhan and to explore risk factors associated with the severe prognosis of the disease for prognostic prediction. Methods: In this retrospective study, moderate and severe disease was defined according to the report of the WHO-China Joint Mission on COVID-19. Clinical characteristics and laboratory findings of 172 patients with laboratory-confirmed moderate COVID-19 were collected when they were admitted to the Cancer Center of Wuhan Union Hospital between February 13, 2020 and February 25, 2020. This cohort was followed to March 14, 2020. The outcomes, being discharged as mild cases or developing into severe cases, were categorized into two groups. The data were compared and analyzed with univariate logistic regression to identify the features that differed significantly between the two groups. Based on machine learning algorithms, a further feature selection procedure was performed to identify the features that can contribute the most to the prediction of disease severity. Results: Of the 172 patients, 112 were discharged as mild cases, and 60 developed into severe cases. Four clinical characteristics and 18 laboratory findings showed significant differences between the two groups in the statistical test (P<0.01) and univariate logistic regression analysis (P<0.01). In the further feature selection procedure, six features were chosen to obtain the best performance in discriminating the two groups with a linear kernel support vector machine. The mean accuracy was 91.38%, with a sensitivity of 0.90 and a specificity of 0.94. The six features included interleukin-6, high-sensitivity cardiac troponin I, procalcitonin, high-sensitivity C-reactive protein, chest distress and calcium level. Conclusions: With the data collected at admission, the combination of one clinical characteristic and five laboratory findings contributed the most to the discrimination between the two groups with a linear kernel support vector machine classifier. These factors may be risk factors that can be used to perform a prognostic prediction regarding the severity of the disease for patients with moderate COVID-19 in the early stage of the disease.\n",
            "Predicted summary: Without specific treatment or prevention options for COVID-19, such as targeted antiviral drugs and vaccines, China has focused on isolation, quarantine, social distancing, and community containment to contain the outbreak [3] .The pandemic of COVID-19 has raised wide public concern and imposed a heavy burden on global health care systems because approximately 15-20% of patients develop severe interstitial pneumonia [5] .Patients with COVID-19 were divided into mild, moderate, severe, and critical cases [8] .However, most studies have focused mainly on identifying the factors related to death and recovery [12] [13] [14] .Although some prognostic information has been revealed by using univariate-or multivariate analyses based on prior clinical knowledge or evidence [9, [15] [16] [17] [18] [19] [20] [21] , these studies have not paid enough attention to feature selection in multivariate prognostic prediction modeling.As a result, the published prognostic prediction tools may not make the most of patient data to perform prognostic prediction modeling.This study built a multivariate prognostic prediction model to predict the risk of developing severe cases among patients with moderate COVID-19.\n",
            "\n",
            "\n",
            "Original text: Measles is a contagious viral infection directly responsible for yearly increased morbidity and mortality, particularly to children [1] - [3] . Common symptoms of measles in a person have a febrile illness with a rash, especially if they lack documentation of measles vaccination, a runny nose, a cough, red and watery eyes, and small white spots inside the cheeks [4] . Currently, the country is experiencing continuous outbreaks of measles [5] . Globally, there was an increasing trend of measles across all regions with the re-emergence of endemic and outbreaks in some countries that had previously achieved none occurrence level. World Health Organization defines measles elimination as the absence of endemic measles virus transmission in a defined geographical area. Some countries are having high rates of measles vaccination experience outbreaks by virtue of imported cases causing transmission through susceptible groups of individuals who are not immune to the measles virus [6] , [7] . In the United States, Netherlands, and United Kingdom, measles was declared eliminated where the disease is no longer constantly present in the country. Measles outbreak continues to occur in countries around the world, which was associated with importations from Israel. Reviews on national measles surveillance guidelines from Australia, Cambodia, Japan, New Zealand, Republic of Korea, and Canada were published on being free from endemic measles [3] , [7] , [8] . Several endemic countries have high incidence rates in Asia Pacific regions, including Laos, Malaysia, Vietnam, Indonesia, Thailand, and the Philippines [9] , [10] . Measles Several literature and studies have started to explore data mining techniques in health and disease prediction [15] . Wang, Shen, Jiang, et al. applied ARIMA in predicting hemorrhagic fever with renal syndrome in China from 2011 until 2018 [16] . Mbau forecasted the number of lung diseases using ARIMA [17] . In the study conducted by He and Tao, the data from 2007 until 2015 was utilized to describe the influenza virus's epidemiology during the past nine influenza years [18] . Thus, the ARIMA model effectively predicts the positive rate of the influenza virus in a short time. Sato presented the process of using the ARIMA model on disease management, where the short period segments were encouraged to analyze each disease [19] . [24] . Another study conducted in China recommended the need for an appropriate model to predict, using historical data like cases of hemorrhagic fever with kidney syndrome.\n",
            "Original summary: Measles is considered as a highly contagious disease that leads to serious complications around the world. Thus, the paper determined the trend and the five-year forecasted data of the Measles in the Philippines. This study utilized the time series data for trend analysis and data forecasting using the ARIMA model to visualize the measles cases. Figures for the time-series and forecasted results are individually presented with the use of GRETL software. Results showed that there was an increasing pattern of the disease from 2016 to 2019. However, there was a decreasing pattern of its occurrence in the next five years based on the five-year forecast. Nevertheless, with the results of the study, there is still a need to improve the different intervention plans of the authority in alleviating the occurrence of the disease though it yielded a decreasing pattern in the future since it is evident that the figure of the forecasted data is still approximately 15,000 and above.\n",
            "Predicted summary: Measles is a contagious viral infection directly responsible for yearly increased morbidity and mortality, particularly to children [1] - [3] .Currently, the country is experiencing continuous outbreaks of measles [5] .Globally, there was an increasing trend of measles across all regions with the re-emergence of endemic and outbreaks in some countries that had previously achieved none occurrence level.Measles outbreak continues to occur in countries around the world, which was associated with importations from Israel.Reviews on national measles surveillance guidelines from Australia, Cambodia, Japan, New Zealand, Republic of Korea, and Canada were published on being free from endemic measles [3] , [7] , [8] .Several endemic countries have high incidence rates in Asia Pacific regions, including Laos, Malaysia, Vietnam, Indonesia, Thailand, and the Philippines [9] , [10] .Another study conducted in China recommended the need for an appropriate model to predict, using historical data like cases of hemorrhagic fever with kidney syndrome.\n",
            "\n",
            "\n",
            "Original text: The management of the COVID-s19 pandemics requires a difficult trade-off between limiting the spread of the disease and trying to control and limit the horrendous damage to the economy. Opening the USA could limit the damage to the economy and relieve economic and psychological pressures but could also lead to a spike in the COVID-19 infections. To address this problem, many states have chosen a partial opening. For example, most of the state of Virginia was open on May 14, 2020. However, Northern Virginia, Richmond, and Accomack County were all granted 2-week delays. The predictive models could guide the pandemic response by learning from the past [1] . Some are based on Lotka-Volterra (prey-predator) equation [2] , others use comparisons with previous epidemics [3] . There are many attempts to address more specific issues, such as a lockdown impact [4] or explore the evolution of Intensive Unit bed availability [5] or effects of tracing [6] . Some of the models focus on predicting the average number of infections caused by an infected person [7] , the effects of the social contact patterns [8] and estimating the severity of the coronavirus disease [9] . The models range from those assessing the global impact of the COVID-19 pandemic [10] to the models focusing on European countries [11] [12] , Asia [13] (including China) [14] and on the low-and middle-income countries [15] [16] , with the latter addressing opposing effects of the limited health care options and having a younger population on the pandemic trends. The pandemic models also address the effects of the seasonal variations on the pandemic growth [17] . Many of the COVID-19 models are presented at the Center for Disease Control and Prevention COVD-19 forecasting site [18] and ForecastHub [19] . Predictive mathematical models of the COVID-19 Pandemic are reviewed in Reference [20] It has been even claimed that simulations drive the world's response to COVID-19 [21] . Models, such as Advanced Autoregressive Integrated Moving Average (ARIMA) Model [22] , have been used to predict the trends of the COVID-19 pandemic for the most affected countries. The factors affecting the accuracy of such models have been widely discussed (see, e.g., [23] and references therein). They include uncertainties in estimating asymptotic infections and time lag between infections and deaths, possible underestimation of the COVID-19 deaths [24] , [25] , issues related to establishing COVID-19 recovery [26] , and strikingly different patterns of the pandemic in different countries and even in the different regions of the same country [27] [28] .\n",
            "Original summary: The purpose of this work is to describe the dynamics of the COVID-19 pandemics accounting for the mitigation measures, for the introduction or removal of the quarantine, and for the effect of vaccination when and if introduced. The methods used include the derivation of the Pandemic Equation describing the mitigation measures via the evolution of the growth time constant in the Pandemic Equation resulting in an asymmetric pandemic curve with a steeper rise than a decrease and mitigation measures. The Pandemic Equation predicts how the quarantine removal and business opening lead to a spike in the pandemic curve. The effective vaccination reduces the new daily infections predicted by the Pandemic Equation. The pandemic curves in many localities have similar time dependencies but shifted in time. The Pandemic Equation parameters extracted from the well advanced pandemic curves can be used for predicting the pandemic evolution in the localities, where the pandemics is still in the initial stages. Using the multiple pandemic locations for the parameter extraction allows for the uncertainty quantification in predicting the pandemic evolution using the introduced Pandemic Equation. Compared with other pandemic models our approach allows for easier parameter extraction amenable to using Artificial Intelligence models.\n",
            "Predicted summary: To address this problem, many states have chosen a partial opening.However, Northern Virginia, Richmond, and Accomack County were all granted 2-week delays.Some are based on Lotka-Volterra (prey-predator) equation [2] , others use comparisons with previous epidemics [3] .There are many attempts to address more specific issues, such as a lockdown impact [4] or explore the evolution of Intensive Unit bed availability [5] or effects of tracing [6] .Many of the COVID-19 models are presented at the Center for Disease Control and Prevention COVD-19 forecasting site [18] and ForecastHub [19] .Predictive mathematical models of the COVID-19 Pandemic are reviewed in Reference [20] It has been even claimed that simulations drive the world's response to COVID-19 [21] .They include uncertainties in estimating asymptotic infections and time lag between infections and deaths, possible underestimation of the COVID-19 deaths [24] , [25] , issues related to establishing COVID-19 recovery [26] , and strikingly different patterns of the pandemic in different countries and even in the different regions of the same country [27] [28] .\n",
            "\n",
            "\n",
            "Original text: With their abundance and the rich variety of electronic properties, the family of atomically thin two-dimensional (2D) materials is a promising choice in the next generation very-large-scaleintegration (VLSI) technology. [1] [2] [3] [4] [5] [6] [7] Electronics devices based on atomically thin 2D materials such as transition metal sulfides, black phosphorus, graphene, etc., have been intensively studied during the past decade. 2D material-based electronics show great potential for building both traditional von Neumann computing architecture and state-of-art non-von Neumann in-memory-computing architecture. [8] [9] [10] [11] [12] [13] [14] [15] [16] [17] However, the inferior electrical contacts greatly hinder the performance of 2D material-based electronic devices. [18] [19] [20] [21] [22] Multiple elaborate methods have been demonstrated to improve the electrical contact to 2D materials, such as low work function metallization, 23 interface engineering, 24, 25 doping, [26] [27] [28] [29] phase change transition, 30 and the recent van der Waals contacts. [31] [32] [33] Still, the electrical contact to 2D materials is yet unable to meet the current VLSI technology standard. 3 Herein continuous improvement of the electrical to 2D materials is required, and full fundamental comprehension of the electrical contacts to 2D materials is urgently needed. In previous studies, researchers have generally focused on the resistive effect of electrical contacts, quantified as the contact resistance. 16, 34 In this work, we investigate the electrical contacts to 2D materials from a different physical perspective and demonstrate that for the atomically thin 2D materials, the electrical contacts contribute not only the resistive effect but also a significant capacitive metal-insulator-semiconductor (MIS) field-effect. The capacitive MIS field-effect can deplete or accumulate the charge carriers, redistribute the voltage potential, and give rise to unusual current saturation and nonlinearity. Based on a thorough understanding, one can purposively decide whether to eliminate such field-effect or use it. On the one hand, engineering on the electrical contact configuration can eliminate the field-effect and significantly improve the driving current of the 2D material based transistors. On the other hand, the nonlinearity introduced by the electrical contact to 2D materials can efficiently improve the perceptron ability of the non-von Neumann inmemory-computing circuit, as demonstrated by a COVID-19 critical illness prediction model. For concision, we first expound on the general principle of the capacitive MIS field-effect. Fig. 1(a) shows a simplified 2D material channel (monolayer MoS2, for example) with two contacting metallic electrodes.\n",
            "Original summary: The inferior electrical contact to two-dimensional (2D) materials is a critical challenge for their application in post-silicon very large-scale integrated circuits. Electrical contacts were generally related to their resistive effect, quantified as contact resistance. With a systematic investigation, this work demonstrates a capacitive metal-insulator-semiconductor (MIS) field-effect at the electrical contacts to 2D materials: the field-effect depletes or accumulates charge carriers, redistributes the voltage potential, and give rise to abnormal current saturation and nonlinearity. On the one hand, the current saturation hinders the devices' driving ability, which can be eliminated with carefully engineered contact configurations. On the other hand, by introducing the nonlinearity to monolithic analog artificial neural network circuits, the circuits' perception ability can be significantly enhanced, as evidenced using a COVID-19 critical illness prediction model. This work provides a comprehension of the field-effect at the electrical contacts to 2D materials, which is fundamental to the design, simulation, and fabrication of electronics based on 2D material.\n",
            "Predicted summary: [1] [2] [3] [4] [5] [6] [7] Electronics devices based on atomically thin 2D materials such as transition metal sulfides, black phosphorus, graphene, etc., have been intensively studied during the past decade.2D material-based electronics show great potential for building both traditional von Neumann computing architecture and state-of-art non-von Neumann in-memory-computing architecture.[18] [19] [20] [21] [22] Multiple elaborate methods have been demonstrated to improve the electrical contact to 2D materials, such as low work function metallization, 23 interface engineering, 24, 25 doping, [26] [27] [28] [29] phase change transition, 30 and the recent van der Waals contacts.3 Herein continuous improvement of the electrical to 2D materials is required, and full fundamental comprehension of the electrical contacts to 2D materials is urgently needed.In previous studies, researchers have generally focused on the resistive effect of electrical contacts, quantified as the contact resistance.16, 34 In this work, we investigate the electrical contacts to 2D materials from a different physical perspective and demonstrate that for the atomically thin 2D materials, the electrical contacts contribute not only the resistive effect but also a significant capacitive metal-insulator-semiconductor (MIS) field-effect.Based on a thorough understanding, one can purposively decide whether to eliminate such field-effect or use it.\n",
            "\n",
            "\n"
          ]
        }
      ]
    },
    {
      "cell_type": "code",
      "source": [],
      "metadata": {
        "id": "CgZuZ5Z-eGYz"
      },
      "execution_count": null,
      "outputs": []
    }
  ]
}